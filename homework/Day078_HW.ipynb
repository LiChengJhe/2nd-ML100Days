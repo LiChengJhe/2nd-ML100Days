{
 "cells": [
  {
   "cell_type": "markdown",
   "metadata": {},
   "source": [
    "## Work\n",
    "1. 請嘗試將 preproc_x 替換成以每筆資料的 min/max 進行標準化至 -1 ~ 1 間，再進行訓練\n",
    "2. 請嘗試將 mlp 疊更深 (e.g 5~10 層)，進行訓練後觀察 learning curve 的走勢\n",
    "3. (optional) 請改用 GPU 進行訓練 (如果你有 GPU 的話)，比較使用 CPU 與 GPU 的訓練速度"
   ]
  },
  {
   "cell_type": "code",
   "execution_count": 1,
   "metadata": {},
   "outputs": [
    {
     "name": "stderr",
     "output_type": "stream",
     "text": [
      "Using TensorFlow backend.\n"
     ]
    }
   ],
   "source": [
    "import os\n",
    "import keras\n",
    "#Blas GEMM launch failed , 避免動態分配GPU / CPU, 出現問題\n",
    "import tensorflow as tf\n",
    "gpu_options = tf.GPUOptions(per_process_gpu_memory_fraction=0.3)\n",
    "sess = tf.Session(config=tf.ConfigProto(gpu_options=gpu_options))\n"
   ]
  },
  {
   "cell_type": "code",
   "execution_count": 2,
   "metadata": {},
   "outputs": [],
   "source": [
    "train, test = keras.datasets.cifar10.load_data()"
   ]
  },
  {
   "cell_type": "code",
   "execution_count": 3,
   "metadata": {},
   "outputs": [],
   "source": [
    "## 資料前處理\n",
    "def preproc_x(x, flatten=True):\n",
    "    x = x / 255.\n",
    "    if flatten:\n",
    "        x = x.reshape((len(x), -1))\n",
    "    return x\n",
    "\n",
    "def preproc_y(y, num_classes=10):\n",
    "    if y.shape[-1] == 1:\n",
    "        y = keras.utils.to_categorical(y, num_classes)\n",
    "    return y"
   ]
  },
  {
   "cell_type": "code",
   "execution_count": 4,
   "metadata": {},
   "outputs": [],
   "source": [
    "x_train, y_train = train\n",
    "x_test, y_test = test\n",
    "\n",
    "# Preproc the inputs\n",
    "x_train = preproc_x(x_train)\n",
    "x_test = preproc_x(x_test)\n",
    "\n",
    "# Preprc the outputs\n",
    "y_train = preproc_y(y_train)\n",
    "y_test = preproc_y(y_test)"
   ]
  },
  {
   "cell_type": "code",
   "execution_count": 5,
   "metadata": {},
   "outputs": [],
   "source": [
    "\n",
    "def build_mlp(input_shape, output_units = 10, num_neurons=[512, 256, 128]):\n",
    "    \n",
    "    input_layer = keras.layers.Input(input_shape)\n",
    "    \n",
    "    for i, n_units in enumerate(num_neurons):\n",
    "        if i == 0:\n",
    "            x = keras.layers.Dense(units=n_units, activation=\"relu\", name=\"hidden_layer\"+str(i+1))(input_layer)\n",
    "        else:\n",
    "            x = keras.layers.Dense(units=n_units, activation=\"relu\", name=\"hidden_layer\"+str(i+1))(x)\n",
    "    \n",
    "    out = keras.layers.Dense(units=output_units, activation=\"softmax\", name=\"output\")(x)\n",
    "    \n",
    "    model = keras.models.Model(inputs=[input_layer], outputs=[out])\n",
    "    \n",
    "    return model"
   ]
  },
  {
   "cell_type": "code",
   "execution_count": 6,
   "metadata": {},
   "outputs": [
    {
     "name": "stderr",
     "output_type": "stream",
     "text": [
      "WARNING: Logging before flag parsing goes to stderr.\n",
      "W0715 23:18:06.887043  5048 deprecation_wrapper.py:119] From C:\\ProgramData\\Anaconda3\\lib\\site-packages\\keras\\backend\\tensorflow_backend.py:74: The name tf.get_default_graph is deprecated. Please use tf.compat.v1.get_default_graph instead.\n",
      "\n",
      "W0715 23:18:06.890043  5048 deprecation_wrapper.py:119] From C:\\ProgramData\\Anaconda3\\lib\\site-packages\\keras\\backend\\tensorflow_backend.py:517: The name tf.placeholder is deprecated. Please use tf.compat.v1.placeholder instead.\n",
      "\n",
      "W0715 23:18:06.893043  5048 deprecation_wrapper.py:119] From C:\\ProgramData\\Anaconda3\\lib\\site-packages\\keras\\backend\\tensorflow_backend.py:4138: The name tf.random_uniform is deprecated. Please use tf.random.uniform instead.\n",
      "\n"
     ]
    },
    {
     "name": "stdout",
     "output_type": "stream",
     "text": [
      "_________________________________________________________________\n",
      "Layer (type)                 Output Shape              Param #   \n",
      "=================================================================\n",
      "input_1 (InputLayer)         (None, 3072)              0         \n",
      "_________________________________________________________________\n",
      "hidden_layer1 (Dense)        (None, 512)               1573376   \n",
      "_________________________________________________________________\n",
      "hidden_layer2 (Dense)        (None, 256)               131328    \n",
      "_________________________________________________________________\n",
      "hidden_layer3 (Dense)        (None, 256)               65792     \n",
      "_________________________________________________________________\n",
      "hidden_layer4 (Dense)        (None, 256)               65792     \n",
      "_________________________________________________________________\n",
      "hidden_layer5 (Dense)        (None, 256)               65792     \n",
      "_________________________________________________________________\n",
      "output (Dense)               (None, 10)                2570      \n",
      "=================================================================\n",
      "Total params: 1,904,650\n",
      "Trainable params: 1,904,650\n",
      "Non-trainable params: 0\n",
      "_________________________________________________________________\n"
     ]
    }
   ],
   "source": [
    "model = build_mlp(input_shape = x_train.shape[1:], num_neurons=[512, 256, 256, 256, 256])\n",
    "model.summary()"
   ]
  },
  {
   "cell_type": "code",
   "execution_count": 7,
   "metadata": {},
   "outputs": [],
   "source": [
    "## 超參數設定\n",
    "LEARNING_RATE = 0.001\n",
    "EPOCHS = 100\n",
    "BATCH_SIZE = 1000"
   ]
  },
  {
   "cell_type": "code",
   "execution_count": 8,
   "metadata": {},
   "outputs": [
    {
     "name": "stderr",
     "output_type": "stream",
     "text": [
      "W0715 23:18:07.186563  5048 deprecation_wrapper.py:119] From C:\\ProgramData\\Anaconda3\\lib\\site-packages\\keras\\optimizers.py:790: The name tf.train.Optimizer is deprecated. Please use tf.compat.v1.train.Optimizer instead.\n",
      "\n",
      "W0715 23:18:07.204561  5048 deprecation_wrapper.py:119] From C:\\ProgramData\\Anaconda3\\lib\\site-packages\\keras\\backend\\tensorflow_backend.py:3295: The name tf.log is deprecated. Please use tf.math.log instead.\n",
      "\n"
     ]
    }
   ],
   "source": [
    "optimizer = keras.optimizers.Adam(lr=LEARNING_RATE)\n",
    "model.compile(loss=\"categorical_crossentropy\", metrics=[\"accuracy\"], optimizer=optimizer)"
   ]
  },
  {
   "cell_type": "code",
   "execution_count": 9,
   "metadata": {},
   "outputs": [
    {
     "name": "stderr",
     "output_type": "stream",
     "text": [
      "W0715 23:18:07.470558  5048 deprecation.py:323] From C:\\ProgramData\\Anaconda3\\lib\\site-packages\\tensorflow\\python\\ops\\math_grad.py:1250: add_dispatch_support.<locals>.wrapper (from tensorflow.python.ops.array_ops) is deprecated and will be removed in a future version.\n",
      "Instructions for updating:\n",
      "Use tf.where in 2.0, which has the same broadcast rule as np.where\n",
      "W0715 23:18:07.604562  5048 deprecation_wrapper.py:119] From C:\\ProgramData\\Anaconda3\\lib\\site-packages\\keras\\backend\\tensorflow_backend.py:986: The name tf.assign_add is deprecated. Please use tf.compat.v1.assign_add instead.\n",
      "\n"
     ]
    },
    {
     "name": "stdout",
     "output_type": "stream",
     "text": [
      "Train on 50000 samples, validate on 10000 samples\n",
      "Epoch 1/100\n",
      "50000/50000 [==============================] - 9s 189us/step - loss: 2.0482 - acc: 0.2472 - val_loss: 1.8749 - val_acc: 0.3248\n",
      "Epoch 2/100\n",
      "50000/50000 [==============================] - 9s 173us/step - loss: 1.8015 - acc: 0.3492 - val_loss: 1.7217 - val_acc: 0.3902\n",
      "Epoch 3/100\n",
      "50000/50000 [==============================] - 8s 160us/step - loss: 1.6992 - acc: 0.3867 - val_loss: 1.6646 - val_acc: 0.3939\n",
      "Epoch 4/100\n",
      "50000/50000 [==============================] - 8s 164us/step - loss: 1.6427 - acc: 0.4112 - val_loss: 1.6339 - val_acc: 0.4133\n",
      "Epoch 5/100\n",
      "50000/50000 [==============================] - 8s 167us/step - loss: 1.5752 - acc: 0.4350 - val_loss: 1.5560 - val_acc: 0.4431\n",
      "Epoch 6/100\n",
      "50000/50000 [==============================] - 10s 199us/step - loss: 1.5250 - acc: 0.4554 - val_loss: 1.5263 - val_acc: 0.4580\n",
      "Epoch 7/100\n",
      "50000/50000 [==============================] - 9s 176us/step - loss: 1.4843 - acc: 0.4693 - val_loss: 1.5056 - val_acc: 0.46424s -\n",
      "Epoch 8/100\n",
      "50000/50000 [==============================] - 8s 170us/step - loss: 1.4527 - acc: 0.4813 - val_loss: 1.5228 - val_acc: 0.4506\n",
      "Epoch 9/100\n",
      "50000/50000 [==============================] - 8s 168us/step - loss: 1.4283 - acc: 0.4901 - val_loss: 1.4385 - val_acc: 0.4870\n",
      "Epoch 10/100\n",
      "50000/50000 [==============================] - 9s 183us/step - loss: 1.3882 - acc: 0.5060 - val_loss: 1.4189 - val_acc: 0.4991 loss: 1.3862 - acc: 0.5 - ETA: 0s - loss: 1.3869 - acc: 0.50\n",
      "Epoch 11/100\n",
      "50000/50000 [==============================] - 12s 235us/step - loss: 1.3571 - acc: 0.5155 - val_loss: 1.4488 - val_acc: 0.4908\n",
      "Epoch 12/100\n",
      "50000/50000 [==============================] - 12s 245us/step - loss: 1.3324 - acc: 0.5266 - val_loss: 1.4094 - val_acc: 0.4944\n",
      "Epoch 13/100\n",
      "50000/50000 [==============================] - 10s 195us/step - loss: 1.3355 - acc: 0.5222 - val_loss: 1.4387 - val_acc: 0.4847\n",
      "Epoch 14/100\n",
      "50000/50000 [==============================] - 10s 208us/step - loss: 1.2991 - acc: 0.5376 - val_loss: 1.3744 - val_acc: 0.5155\n",
      "Epoch 15/100\n",
      "50000/50000 [==============================] - 10s 200us/step - loss: 1.2692 - acc: 0.5479 - val_loss: 1.3840 - val_acc: 0.5138\n",
      "Epoch 16/100\n",
      "50000/50000 [==============================] - 10s 193us/step - loss: 1.2417 - acc: 0.5545 - val_loss: 1.3984 - val_acc: 0.5079\n",
      "Epoch 17/100\n",
      "50000/50000 [==============================] - 12s 236us/step - loss: 1.2240 - acc: 0.5653 - val_loss: 1.3822 - val_acc: 0.5110\n",
      "Epoch 18/100\n",
      "50000/50000 [==============================] - 12s 231us/step - loss: 1.2086 - acc: 0.5673 - val_loss: 1.3674 - val_acc: 0.5232\n",
      "Epoch 19/100\n",
      "50000/50000 [==============================] - 10s 208us/step - loss: 1.1883 - acc: 0.5760 - val_loss: 1.3642 - val_acc: 0.5230\n",
      "Epoch 20/100\n",
      "50000/50000 [==============================] - 10s 204us/step - loss: 1.1586 - acc: 0.5863 - val_loss: 1.3680 - val_acc: 0.5227 - lo\n",
      "Epoch 21/100\n",
      "50000/50000 [==============================] - 11s 212us/step - loss: 1.1532 - acc: 0.5876 - val_loss: 1.4081 - val_acc: 0.5102\n",
      "Epoch 22/100\n",
      "50000/50000 [==============================] - 10s 204us/step - loss: 1.1206 - acc: 0.5987 - val_loss: 1.4023 - val_acc: 0.5102\n",
      "Epoch 23/100\n",
      "50000/50000 [==============================] - 10s 199us/step - loss: 1.0929 - acc: 0.6070 - val_loss: 1.4080 - val_acc: 0.5138\n",
      "Epoch 24/100\n",
      "50000/50000 [==============================] - 10s 194us/step - loss: 1.0655 - acc: 0.6191 - val_loss: 1.4209 - val_acc: 0.5117: 1.0570\n",
      "Epoch 25/100\n",
      "50000/50000 [==============================] - 10s 193us/step - loss: 1.0403 - acc: 0.6268 - val_loss: 1.4278 - val_acc: 0.5135 - los\n",
      "Epoch 26/100\n",
      "50000/50000 [==============================] - 9s 183us/step - loss: 1.0287 - acc: 0.6335 - val_loss: 1.3961 - val_acc: 0.5151\n",
      "Epoch 27/100\n",
      "50000/50000 [==============================] - 9s 180us/step - loss: 1.0004 - acc: 0.6422 - val_loss: 1.3945 - val_acc: 0.5217\n",
      "Epoch 28/100\n",
      "50000/50000 [==============================] - 9s 177us/step - loss: 0.9802 - acc: 0.6495 - val_loss: 1.4203 - val_acc: 0.5224\n",
      "Epoch 29/100\n",
      "50000/50000 [==============================] - 9s 176us/step - loss: 0.9584 - acc: 0.6573 - val_loss: 1.4094 - val_acc: 0.5252\n",
      "Epoch 30/100\n",
      "50000/50000 [==============================] - 9s 171us/step - loss: 0.9334 - acc: 0.6675 - val_loss: 1.4338 - val_acc: 0.5232\n",
      "Epoch 31/100\n",
      "50000/50000 [==============================] - 8s 166us/step - loss: 0.9039 - acc: 0.6754 - val_loss: 1.4527 - val_acc: 0.5214\n",
      "Epoch 32/100\n",
      "50000/50000 [==============================] - 8s 167us/step - loss: 0.8819 - acc: 0.6870 - val_loss: 1.4520 - val_acc: 0.5178\n",
      "Epoch 33/100\n",
      "50000/50000 [==============================] - 9s 175us/step - loss: 0.8475 - acc: 0.6998 - val_loss: 1.4987 - val_acc: 0.5221\n",
      "Epoch 34/100\n",
      "50000/50000 [==============================] - 8s 170us/step - loss: 0.8354 - acc: 0.7009 - val_loss: 1.5323 - val_acc: 0.5206\n",
      "Epoch 35/100\n",
      "50000/50000 [==============================] - 9s 172us/step - loss: 0.8179 - acc: 0.7065 - val_loss: 1.5058 - val_acc: 0.5257\n",
      "Epoch 36/100\n",
      "50000/50000 [==============================] - 6s 115us/step - loss: 0.7905 - acc: 0.7166 - val_loss: 1.5683 - val_acc: 0.5120\n",
      "Epoch 37/100\n",
      "50000/50000 [==============================] - 6s 113us/step - loss: 0.8104 - acc: 0.7113 - val_loss: 1.5182 - val_acc: 0.5208\n",
      "Epoch 38/100\n",
      "50000/50000 [==============================] - 5s 103us/step - loss: 0.7576 - acc: 0.7293 - val_loss: 1.5492 - val_acc: 0.5240\n",
      "Epoch 39/100\n",
      "50000/50000 [==============================] - 5s 100us/step - loss: 0.7206 - acc: 0.7434 - val_loss: 1.6025 - val_acc: 0.5234\n",
      "Epoch 40/100\n",
      "50000/50000 [==============================] - 5s 109us/step - loss: 0.6919 - acc: 0.7532 - val_loss: 1.6231 - val_acc: 0.5285\n",
      "Epoch 41/100\n",
      "50000/50000 [==============================] - 6s 126us/step - loss: 0.6693 - acc: 0.7605 - val_loss: 1.6498 - val_acc: 0.5256\n",
      "Epoch 42/100\n",
      "50000/50000 [==============================] - 5s 105us/step - loss: 0.6650 - acc: 0.7617 - val_loss: 1.6960 - val_acc: 0.5152\n",
      "Epoch 43/100\n",
      "50000/50000 [==============================] - 5s 106us/step - loss: 0.6449 - acc: 0.7699 - val_loss: 1.7369 - val_acc: 0.5121\n",
      "Epoch 44/100\n",
      "50000/50000 [==============================] - 5s 104us/step - loss: 0.6137 - acc: 0.7819 - val_loss: 1.7731 - val_acc: 0.5194\n",
      "Epoch 45/100\n",
      "50000/50000 [==============================] - 5s 105us/step - loss: 0.5992 - acc: 0.7881 - val_loss: 1.7823 - val_acc: 0.5147\n",
      "Epoch 46/100\n",
      "50000/50000 [==============================] - 5s 101us/step - loss: 0.5781 - acc: 0.7962 - val_loss: 1.8003 - val_acc: 0.5238\n",
      "Epoch 47/100\n",
      "50000/50000 [==============================] - 6s 119us/step - loss: 0.5694 - acc: 0.7985 - val_loss: 1.8209 - val_acc: 0.5137\n",
      "Epoch 48/100\n",
      "50000/50000 [==============================] - 5s 102us/step - loss: 0.5471 - acc: 0.8056 - val_loss: 1.8684 - val_acc: 0.5142\n",
      "Epoch 49/100\n",
      "50000/50000 [==============================] - 5s 105us/step - loss: 0.5388 - acc: 0.8093 - val_loss: 1.8676 - val_acc: 0.5063\n",
      "Epoch 50/100\n",
      "50000/50000 [==============================] - 6s 110us/step - loss: 0.5159 - acc: 0.8157 - val_loss: 1.8944 - val_acc: 0.5122\n",
      "Epoch 51/100\n",
      "50000/50000 [==============================] - 6s 126us/step - loss: 0.4851 - acc: 0.8274 - val_loss: 1.9555 - val_acc: 0.5113\n",
      "Epoch 52/100\n",
      "50000/50000 [==============================] - 5s 107us/step - loss: 0.4591 - acc: 0.8380 - val_loss: 1.9949 - val_acc: 0.5165\n",
      "Epoch 53/100\n",
      "50000/50000 [==============================] - 5s 108us/step - loss: 0.4394 - acc: 0.8449 - val_loss: 2.1057 - val_acc: 0.5068\n",
      "Epoch 54/100\n",
      "50000/50000 [==============================] - 5s 104us/step - loss: 0.4326 - acc: 0.8459 - val_loss: 2.0854 - val_acc: 0.5125\n",
      "Epoch 55/100\n",
      "50000/50000 [==============================] - 5s 106us/step - loss: 0.4154 - acc: 0.8536 - val_loss: 2.1290 - val_acc: 0.5129\n",
      "Epoch 56/100\n",
      "50000/50000 [==============================] - 5s 103us/step - loss: 0.4106 - acc: 0.8537 - val_loss: 2.1521 - val_acc: 0.5180\n",
      "Epoch 57/100\n",
      "50000/50000 [==============================] - 5s 104us/step - loss: 0.4119 - acc: 0.8545 - val_loss: 2.2161 - val_acc: 0.5138\n",
      "Epoch 58/100\n"
     ]
    },
    {
     "name": "stdout",
     "output_type": "stream",
     "text": [
      "50000/50000 [==============================] - 5s 105us/step - loss: 0.3552 - acc: 0.8754 - val_loss: 2.2842 - val_acc: 0.5104\n",
      "Epoch 59/100\n",
      "50000/50000 [==============================] - 5s 107us/step - loss: 0.3520 - acc: 0.8780 - val_loss: 2.3466 - val_acc: 0.5042\n",
      "Epoch 60/100\n",
      "50000/50000 [==============================] - 6s 128us/step - loss: 0.3538 - acc: 0.8751 - val_loss: 2.3834 - val_acc: 0.5146\n",
      "Epoch 61/100\n",
      "50000/50000 [==============================] - 6s 113us/step - loss: 0.3977 - acc: 0.8577 - val_loss: 2.4308 - val_acc: 0.5019\n",
      "Epoch 62/100\n",
      "50000/50000 [==============================] - 5s 107us/step - loss: 0.3311 - acc: 0.8824 - val_loss: 2.5037 - val_acc: 0.5078\n",
      "Epoch 63/100\n",
      "50000/50000 [==============================] - 5s 109us/step - loss: 0.3584 - acc: 0.8723 - val_loss: 2.4649 - val_acc: 0.5107\n",
      "Epoch 64/100\n",
      "50000/50000 [==============================] - 6s 116us/step - loss: 0.3366 - acc: 0.8794 - val_loss: 2.4999 - val_acc: 0.5124\n",
      "Epoch 65/100\n",
      "50000/50000 [==============================] - 6s 128us/step - loss: 0.2777 - acc: 0.9037 - val_loss: 2.5856 - val_acc: 0.5095\n",
      "Epoch 66/100\n",
      "50000/50000 [==============================] - 7s 135us/step - loss: 0.2802 - acc: 0.9020 - val_loss: 2.5534 - val_acc: 0.5125\n",
      "Epoch 67/100\n",
      "50000/50000 [==============================] - 6s 110us/step - loss: 0.2639 - acc: 0.9080 - val_loss: 2.6452 - val_acc: 0.5061\n",
      "Epoch 68/100\n",
      "50000/50000 [==============================] - 5s 109us/step - loss: 0.2530 - acc: 0.9122 - val_loss: 2.6659 - val_acc: 0.5051\n",
      "Epoch 69/100\n",
      "50000/50000 [==============================] - 5s 109us/step - loss: 0.2470 - acc: 0.9140 - val_loss: 2.7616 - val_acc: 0.5026\n",
      "Epoch 70/100\n",
      "50000/50000 [==============================] - 6s 124us/step - loss: 0.2565 - acc: 0.9074 - val_loss: 2.9425 - val_acc: 0.4997\n",
      "Epoch 71/100\n",
      "50000/50000 [==============================] - 8s 151us/step - loss: 0.2389 - acc: 0.9165 - val_loss: 2.7891 - val_acc: 0.5085\n",
      "Epoch 72/100\n",
      "50000/50000 [==============================] - 9s 179us/step - loss: 0.1966 - acc: 0.9324 - val_loss: 2.9058 - val_acc: 0.5073\n",
      "Epoch 73/100\n",
      "50000/50000 [==============================] - 9s 178us/step - loss: 0.2248 - acc: 0.9217 - val_loss: 2.8957 - val_acc: 0.5079\n",
      "Epoch 74/100\n",
      "50000/50000 [==============================] - 7s 143us/step - loss: 0.2299 - acc: 0.9193 - val_loss: 2.9479 - val_acc: 0.5118\n",
      "Epoch 75/100\n",
      "50000/50000 [==============================] - 6s 117us/step - loss: 0.1992 - acc: 0.9311 - val_loss: 3.1045 - val_acc: 0.5045\n",
      "Epoch 76/100\n",
      "50000/50000 [==============================] - 6s 127us/step - loss: 0.1881 - acc: 0.9337 - val_loss: 3.0893 - val_acc: 0.4979\n",
      "Epoch 77/100\n",
      "50000/50000 [==============================] - 6s 118us/step - loss: 0.1967 - acc: 0.9307 - val_loss: 3.0724 - val_acc: 0.5072\n",
      "Epoch 78/100\n",
      "50000/50000 [==============================] - 6s 129us/step - loss: 0.1834 - acc: 0.9372 - val_loss: 3.1104 - val_acc: 0.4977\n",
      "Epoch 79/100\n",
      "50000/50000 [==============================] - 7s 133us/step - loss: 0.1838 - acc: 0.9369 - val_loss: 3.1575 - val_acc: 0.5007\n",
      "Epoch 80/100\n",
      "50000/50000 [==============================] - 6s 123us/step - loss: 0.1727 - acc: 0.9404 - val_loss: 3.2498 - val_acc: 0.5011\n",
      "Epoch 81/100\n",
      "50000/50000 [==============================] - 7s 137us/step - loss: 0.1520 - acc: 0.9477 - val_loss: 3.2914 - val_acc: 0.5060\n",
      "Epoch 82/100\n",
      "50000/50000 [==============================] - 6s 122us/step - loss: 0.1515 - acc: 0.9481 - val_loss: 3.1950 - val_acc: 0.5015\n",
      "Epoch 83/100\n",
      "50000/50000 [==============================] - 7s 131us/step - loss: 0.2252 - acc: 0.9190 - val_loss: 3.1584 - val_acc: 0.4981\n",
      "Epoch 84/100\n",
      "50000/50000 [==============================] - 6s 129us/step - loss: 0.2293 - acc: 0.9176 - val_loss: 3.2954 - val_acc: 0.4971\n",
      "Epoch 85/100\n",
      "50000/50000 [==============================] - 6s 124us/step - loss: 0.1907 - acc: 0.9323 - val_loss: 3.2569 - val_acc: 0.5019\n",
      "Epoch 86/100\n",
      "50000/50000 [==============================] - 7s 130us/step - loss: 0.1665 - acc: 0.9413 - val_loss: 3.3336 - val_acc: 0.4949\n",
      "Epoch 87/100\n",
      "50000/50000 [==============================] - 6s 117us/step - loss: 0.1558 - acc: 0.9458 - val_loss: 3.4098 - val_acc: 0.5015\n",
      "Epoch 88/100\n",
      "50000/50000 [==============================] - 6s 113us/step - loss: 0.1544 - acc: 0.9455 - val_loss: 3.4063 - val_acc: 0.5032\n",
      "Epoch 89/100\n",
      "50000/50000 [==============================] - 6s 112us/step - loss: 0.2013 - acc: 0.9292 - val_loss: 3.3663 - val_acc: 0.4992\n",
      "Epoch 90/100\n",
      "50000/50000 [==============================] - 6s 112us/step - loss: 0.1492 - acc: 0.9481 - val_loss: 3.4395 - val_acc: 0.5003\n",
      "Epoch 91/100\n",
      "50000/50000 [==============================] - 6s 118us/step - loss: 0.1450 - acc: 0.9500 - val_loss: 3.3918 - val_acc: 0.5035\n",
      "Epoch 92/100\n",
      "50000/50000 [==============================] - 6s 114us/step - loss: 0.1353 - acc: 0.9518 - val_loss: 3.4590 - val_acc: 0.5037\n",
      "Epoch 93/100\n",
      "50000/50000 [==============================] - 6s 112us/step - loss: 0.1287 - acc: 0.9550 - val_loss: 3.5507 - val_acc: 0.5025\n",
      "Epoch 94/100\n",
      "50000/50000 [==============================] - 6s 128us/step - loss: 0.1233 - acc: 0.9569 - val_loss: 3.5590 - val_acc: 0.5018\n",
      "Epoch 95/100\n",
      "50000/50000 [==============================] - 6s 115us/step - loss: 0.1484 - acc: 0.9476 - val_loss: 3.6328 - val_acc: 0.4972\n",
      "Epoch 96/100\n",
      "50000/50000 [==============================] - 6s 111us/step - loss: 0.1286 - acc: 0.9559 - val_loss: 3.6103 - val_acc: 0.4963\n",
      "Epoch 97/100\n",
      "50000/50000 [==============================] - 6s 110us/step - loss: 0.1247 - acc: 0.9557 - val_loss: 3.7524 - val_acc: 0.4998\n",
      "Epoch 98/100\n",
      "50000/50000 [==============================] - 5s 109us/step - loss: 0.1272 - acc: 0.9546 - val_loss: 3.7632 - val_acc: 0.4960\n",
      "Epoch 99/100\n",
      "50000/50000 [==============================] - 5s 109us/step - loss: 0.1028 - acc: 0.9649 - val_loss: 3.7696 - val_acc: 0.5022\n",
      "Epoch 100/100\n",
      "50000/50000 [==============================] - 5s 109us/step - loss: 0.1054 - acc: 0.9633 - val_loss: 3.7521 - val_acc: 0.4968\n"
     ]
    },
    {
     "data": {
      "text/plain": [
       "<keras.callbacks.History at 0x252676ad128>"
      ]
     },
     "execution_count": 9,
     "metadata": {},
     "output_type": "execute_result"
    }
   ],
   "source": [
    "model.fit(x_train, y_train, \n",
    "          epochs=EPOCHS, \n",
    "          batch_size=BATCH_SIZE, \n",
    "          validation_data=(x_test, y_test), \n",
    "          shuffle=True)"
   ]
  },
  {
   "cell_type": "code",
   "execution_count": 11,
   "metadata": {},
   "outputs": [
    {
     "data": {
      "image/png": "[encoded data removed]",
      "text/plain": [
       "<Figure size 432x288 with 1 Axes>"
      ]
     },
     "metadata": {
      "needs_background": "light"
     },
     "output_type": "display_data"
    },
    {
     "data": {
      "image/png": "[encoded data removed]",
      "text/plain": [
       "<Figure size 432x288 with 1 Axes>"
      ]
     },
     "metadata": {
      "needs_background": "light"
     },
     "output_type": "display_data"
    }
   ],
   "source": [
    "import matplotlib.pyplot as plt\n",
    "\n",
    "\n",
    "train_loss = model.history.history[\"loss\"]\n",
    "valid_loss = model.history.history[\"val_loss\"]\n",
    "\n",
    "train_acc = model.history.history[\"acc\"]\n",
    "valid_acc = model.history.history[\"val_acc\"]\n",
    "\n",
    "plt.plot(range(len(train_loss)), train_loss, label=\"train loss\")\n",
    "plt.plot(range(len(valid_loss)), valid_loss, label=\"valid loss\")\n",
    "plt.legend()\n",
    "plt.title(\"Loss\")\n",
    "plt.show()\n",
    "\n",
    "plt.plot(range(len(train_acc)), train_acc, label=\"train accuracy\")\n",
    "plt.plot(range(len(valid_acc)), valid_acc, label=\"valid accuracy\")\n",
    "plt.legend()\n",
    "plt.title(\"Accuracy\")\n",
    "plt.show()"
   ]
  },
  {
   "cell_type": "code",
   "execution_count": null,
   "metadata": {},
   "outputs": [],
   "source": []
  },
  {
   "cell_type": "code",
   "execution_count": null,
   "metadata": {},
   "outputs": [],
   "source": []
  },
  {
   "cell_type": "code",
   "execution_count": null,
   "metadata": {},
   "outputs": [],
   "source": []
  }
 ],
 "metadata": {
  "kernelspec": {
   "display_name": "Python 3",
   "language": "python",
   "name": "python3"
  },
  "language_info": {
   "codemirror_mode": {
    "name": "ipython",
    "version": 3
   },
   "file_extension": ".py",
   "mimetype": "text/x-python",
   "name": "python",
   "nbconvert_exporter": "python",
   "pygments_lexer": "ipython3",
   "version": "3.7.3"
  }
 },
 "nbformat": 4,
 "nbformat_minor": 2
}
