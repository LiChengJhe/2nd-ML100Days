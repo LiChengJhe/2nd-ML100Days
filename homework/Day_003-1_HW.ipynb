{
 "cells": [
  {
   "cell_type": "code",
   "execution_count": null,
   "metadata": {},
   "outputs": [],
   "source": [
    "## 練習時間\n",
    "在小量的資料上，我們用眼睛就可以看得出來程式碼是否有跑出我們理想中的結果\n",
    "\n",
    "請嘗試想像一個你需要的資料結構 (裡面的值可以是隨機的)，然後用上述的方法把它變成 pandas DataFrame\n",
    "\n",
    "#### Ex: 想像一個 dataframe 有兩個欄位，一個是國家，一個是人口，求人口數最多的國家\n",
    "\n",
    "### Hints: [隨機產生數值](https://blog.csdn.net/christianashannon/article/details/78867204)"
   ]
  },
  {
   "cell_type": "code",
   "execution_count": 2,
   "metadata": {},
   "outputs": [],
   "source": [
    "import pandas as pd\n",
    "import numpy as np\n",
    "import random"
   ]
  },
  {
   "cell_type": "code",
   "execution_count": 33,
   "metadata": {},
   "outputs": [],
   "source": [
    "def GetRandomCountryName(minLen,maxLen):\n",
    "    charSet = []\n",
    "    for i in range(ord('A'), ord('Z') + 1):\n",
    "           charSet.append(chr(i))\n",
    "    return ''.join(random.sample(charSet, random.randint(minLen, maxLen)))"
   ]
  },
  {
   "cell_type": "code",
   "execution_count": 64,
   "metadata": {},
   "outputs": [],
   "source": [
    "def GetCountryData(rows):\n",
    "    countries = []\n",
    "    populations = []\n",
    "    for i in range(rows):\n",
    "      countries.append(GetRandomCountryName(5,10))\n",
    "      populations.append(random.randint(10000, 10000000))\n",
    "    return {'Country': countries,'Population': populations}"
   ]
  },
  {
   "cell_type": "code",
   "execution_count": 65,
   "metadata": {},
   "outputs": [
    {
     "name": "stdout",
     "output_type": "stream",
     "text": [
      "      Country  Population\n",
      "0   HVCPEBWKZ     5566901\n",
      "1  OMNXTBVZKQ      636206\n",
      "2      NYDOJM     1203291\n",
      "3    KTWPXOCN     8904154\n",
      "4   TEYJGRWKB     6189788\n",
      "5    WJKOBXCE      141008\n",
      "6     MFGXCRS     3348598\n",
      "7   IWDAUGPEO     3112031\n",
      "8     UZVGJIB     9822877\n",
      "9     ZMDWJBC     4365885\n"
     ]
    }
   ],
   "source": [
    "data=pd.DataFrame(GetCountryData(10))\n",
    "print(data)"
   ]
  },
  {
   "cell_type": "code",
   "execution_count": 68,
   "metadata": {},
   "outputs": [
    {
     "data": {
      "text/plain": [
       "8    UZVGJIB\n",
       "Name: Country, dtype: object"
      ]
     },
     "execution_count": 68,
     "metadata": {},
     "output_type": "execute_result"
    }
   ],
   "source": [
    "maxCountry = data.Population.max()\n",
    "data[data.Population == maxCountry].Country"
   ]
  }
 ],
 "metadata": {
  "kernelspec": {
   "display_name": "Python 3",
   "language": "python",
   "name": "python3"
  },
  "language_info": {
   "codemirror_mode": {
    "name": "ipython",
    "version": 3
   },
   "file_extension": ".py",
   "mimetype": "text/x-python",
   "name": "python",
   "nbconvert_exporter": "python",
   "pygments_lexer": "ipython3",
   "version": "3.7.3"
  }
 },
 "nbformat": 4,
 "nbformat_minor": 2
}
