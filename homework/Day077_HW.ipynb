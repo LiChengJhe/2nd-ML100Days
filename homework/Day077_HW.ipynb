{
 "cells": [
  {
   "cell_type": "markdown",
   "metadata": {},
   "source": [
    "## Work\n",
    "1. 請將 Epoch 加到 500 個，並觀察 learning curve 的走勢\n",
    "2. 請將 Optimizer 換成 SGD，並觀察 learning curve 的走勢"
   ]
  },
  {
   "cell_type": "code",
   "execution_count": 19,
   "metadata": {},
   "outputs": [],
   "source": [
    "import os\n",
    "import keras\n",
    "import tensorflow as tf\n",
    "gpu_options = tf.GPUOptions(per_process_gpu_memory_fraction=0.3)\n",
    "sess = tf.Session(config=tf.ConfigProto(gpu_options=gpu_options))\n"
   ]
  },
  {
   "cell_type": "code",
   "execution_count": 20,
   "metadata": {},
   "outputs": [],
   "source": [
    "# 從 Keras 的內建功能中，取得 train 與 test 資料集\n",
    "train, test = keras.datasets.cifar10.load_data()"
   ]
  },
  {
   "cell_type": "code",
   "execution_count": 21,
   "metadata": {},
   "outputs": [],
   "source": [
    "# 將 X 與 Y 獨立放進變數\n",
    "x_train, y_train = train\n",
    "x_test, y_test = test\n",
    "# 資料前處理 - 標準化\n",
    "x_train = x_train / 255.\n",
    "x_test = x_test / 255.\n",
    "\n",
    "# 將資料從圖形 (RGB) 轉為向量 (Single Vector)\n",
    "x_train = x_train.reshape((len(x_train), -1))\n",
    "x_test = x_test.reshape((len(x_test), -1))\n",
    "\n",
    "# 將目標轉為 one-hot encoding\n",
    "y_train = keras.utils.to_categorical(y_train, num_classes=10)\n",
    "y_test = keras.utils.to_categorical(y_test, num_classes=10)"
   ]
  },
  {
   "cell_type": "code",
   "execution_count": 22,
   "metadata": {},
   "outputs": [],
   "source": [
    "def build_mlp():\n",
    "        input_layer = keras.layers.Input([x_train.shape[-1]])\n",
    "        x = keras.layers.Dense(units=512, activation=\"relu\")(input_layer)\n",
    "        x = keras.layers.Dense(units=256, activation=\"relu\")(x)\n",
    "        x = keras.layers.Dense(units=128, activation=\"relu\")(x)\n",
    "        out = keras.layers.Dense(units=10, activation=\"softmax\")(x)\n",
    "        model = keras.models.Model(inputs=[input_layer], outputs=[out])\n",
    "        return model\n",
    "model = build_mlp()"
   ]
  },
  {
   "cell_type": "code",
   "execution_count": 23,
   "metadata": {},
   "outputs": [
    {
     "name": "stdout",
     "output_type": "stream",
     "text": [
      "_________________________________________________________________\n",
      "Layer (type)                 Output Shape              Param #   \n",
      "=================================================================\n",
      "input_4 (InputLayer)         (None, 3072)              0         \n",
      "_________________________________________________________________\n",
      "dense_16 (Dense)             (None, 512)               1573376   \n",
      "_________________________________________________________________\n",
      "dense_17 (Dense)             (None, 256)               131328    \n",
      "_________________________________________________________________\n",
      "dense_18 (Dense)             (None, 128)               32896     \n",
      "_________________________________________________________________\n",
      "dense_19 (Dense)             (None, 10)                1290      \n",
      "=================================================================\n",
      "Total params: 1,738,890\n",
      "Trainable params: 1,738,890\n",
      "Non-trainable params: 0\n",
      "_________________________________________________________________\n"
     ]
    }
   ],
   "source": [
    "\n",
    "model.summary()\n",
    "\n",
    "optimizer = keras.optimizers.SGD(lr=0.001)\n",
    "model.compile(loss=\"categorical_crossentropy\", metrics=[\"accuracy\"], optimizer=optimizer)"
   ]
  },
  {
   "cell_type": "code",
   "execution_count": 24,
   "metadata": {
    "scrolled": true
   },
   "outputs": [
    {
     "name": "stdout",
     "output_type": "stream",
     "text": [
      "Train on 50000 samples, validate on 10000 samples\n",
      "Epoch 1/100\n",
      "50000/50000 [==============================] - 4s 89us/step - loss: 2.3256 - acc: 0.1104 - val_loss: 2.2982 - val_acc: 0.1147\n",
      "Epoch 2/100\n",
      "50000/50000 [==============================] - 4s 82us/step - loss: 2.2820 - acc: 0.1297 - val_loss: 2.2698 - val_acc: 0.1375\n",
      "Epoch 3/100\n",
      "50000/50000 [==============================] - 4s 83us/step - loss: 2.2589 - acc: 0.1527 - val_loss: 2.2494 - val_acc: 0.1618\n",
      "Epoch 4/100\n",
      "50000/50000 [==============================] - 4s 83us/step - loss: 2.2398 - acc: 0.1761 - val_loss: 2.2313 - val_acc: 0.1846\n",
      "Epoch 5/100\n",
      "50000/50000 [==============================] - 4s 83us/step - loss: 2.2221 - acc: 0.1951 - val_loss: 2.2143 - val_acc: 0.1993\n",
      "Epoch 6/100\n",
      "50000/50000 [==============================] - 4s 85us/step - loss: 2.2053 - acc: 0.2081 - val_loss: 2.1979 - val_acc: 0.2096\n",
      "Epoch 7/100\n",
      "50000/50000 [==============================] - 4s 85us/step - loss: 2.1893 - acc: 0.2173 - val_loss: 2.1824 - val_acc: 0.2190\n",
      "Epoch 8/100\n",
      "50000/50000 [==============================] - 4s 84us/step - loss: 2.1741 - acc: 0.2260 - val_loss: 2.1676 - val_acc: 0.2268\n",
      "Epoch 9/100\n",
      "50000/50000 [==============================] - 5s 92us/step - loss: 2.1597 - acc: 0.2310 - val_loss: 2.1537 - val_acc: 0.2337\n",
      "Epoch 10/100\n",
      "50000/50000 [==============================] - 4s 88us/step - loss: 2.1461 - acc: 0.2379 - val_loss: 2.1405 - val_acc: 0.2410\n",
      "Epoch 11/100\n",
      "50000/50000 [==============================] - 4s 86us/step - loss: 2.1334 - acc: 0.2437 - val_loss: 2.1281 - val_acc: 0.2482\n",
      "Epoch 12/100\n",
      "50000/50000 [==============================] - 5s 92us/step - loss: 2.1213 - acc: 0.2483 - val_loss: 2.1163 - val_acc: 0.2530\n",
      "Epoch 13/100\n",
      "50000/50000 [==============================] - 5s 96us/step - loss: 2.1098 - acc: 0.2530 - val_loss: 2.1051 - val_acc: 0.2581\n",
      "Epoch 14/100\n",
      "50000/50000 [==============================] - 4s 81us/step - loss: 2.0988 - acc: 0.2582 - val_loss: 2.0942 - val_acc: 0.2609\n",
      "Epoch 15/100\n",
      "50000/50000 [==============================] - 4s 88us/step - loss: 2.0883 - acc: 0.2631 - val_loss: 2.0839 - val_acc: 0.2686\n",
      "Epoch 16/100\n",
      "50000/50000 [==============================] - 5s 93us/step - loss: 2.0782 - acc: 0.2687 - val_loss: 2.0740 - val_acc: 0.2705\n",
      "Epoch 17/100\n",
      "50000/50000 [==============================] - 5s 92us/step - loss: 2.0686 - acc: 0.2724 - val_loss: 2.0646 - val_acc: 0.2759\n",
      "Epoch 18/100\n",
      "50000/50000 [==============================] - 4s 87us/step - loss: 2.0595 - acc: 0.2765 - val_loss: 2.0556 - val_acc: 0.2775\n",
      "Epoch 19/100\n",
      "50000/50000 [==============================] - 4s 89us/step - loss: 2.0507 - acc: 0.2802 - val_loss: 2.0469 - val_acc: 0.2832\n",
      "Epoch 20/100\n",
      "50000/50000 [==============================] - 4s 89us/step - loss: 2.0422 - acc: 0.2848 - val_loss: 2.0386 - val_acc: 0.2854\n",
      "Epoch 21/100\n",
      "50000/50000 [==============================] - 5s 92us/step - loss: 2.0339 - acc: 0.2883 - val_loss: 2.0305 - val_acc: 0.2872\n",
      "Epoch 22/100\n",
      "50000/50000 [==============================] - 5s 94us/step - loss: 2.0261 - acc: 0.2911 - val_loss: 2.0228 - val_acc: 0.2948\n",
      "Epoch 23/100\n",
      "50000/50000 [==============================] - 5s 96us/step - loss: 2.0185 - acc: 0.2951 - val_loss: 2.0153 - val_acc: 0.2961\n",
      "Epoch 24/100\n",
      "50000/50000 [==============================] - 5s 98us/step - loss: 2.0111 - acc: 0.2983 - val_loss: 2.0082 - val_acc: 0.2980\n",
      "Epoch 25/100\n",
      "50000/50000 [==============================] - 5s 94us/step - loss: 2.0041 - acc: 0.3003 - val_loss: 2.0012 - val_acc: 0.3022\n",
      "Epoch 26/100\n",
      "50000/50000 [==============================] - 5s 93us/step - loss: 1.9972 - acc: 0.3040 - val_loss: 1.9945 - val_acc: 0.3072\n",
      "Epoch 27/100\n",
      "50000/50000 [==============================] - 5s 90us/step - loss: 1.9906 - acc: 0.3079 - val_loss: 1.9879 - val_acc: 0.3076\n",
      "Epoch 28/100\n",
      "50000/50000 [==============================] - 5s 92us/step - loss: 1.9842 - acc: 0.3097 - val_loss: 1.9817 - val_acc: 0.3100\n",
      "Epoch 29/100\n",
      "50000/50000 [==============================] - 5s 93us/step - loss: 1.9781 - acc: 0.3119 - val_loss: 1.9757 - val_acc: 0.3152\n",
      "Epoch 30/100\n",
      "50000/50000 [==============================] - 5s 90us/step - loss: 1.9722 - acc: 0.3153 - val_loss: 1.9699 - val_acc: 0.3140\n",
      "Epoch 31/100\n",
      "50000/50000 [==============================] - 5s 93us/step - loss: 1.9666 - acc: 0.3164 - val_loss: 1.9643 - val_acc: 0.3184\n",
      "Epoch 32/100\n",
      "50000/50000 [==============================] - 5s 99us/step - loss: 1.9611 - acc: 0.3195 - val_loss: 1.9587 - val_acc: 0.3187\n",
      "Epoch 33/100\n",
      "50000/50000 [==============================] - 5s 94us/step - loss: 1.9558 - acc: 0.3211 - val_loss: 1.9534 - val_acc: 0.3186\n",
      "Epoch 34/100\n",
      "50000/50000 [==============================] - 5s 93us/step - loss: 1.9507 - acc: 0.3236 - val_loss: 1.9483 - val_acc: 0.3217\n",
      "Epoch 35/100\n",
      "50000/50000 [==============================] - 5s 98us/step - loss: 1.9456 - acc: 0.3252 - val_loss: 1.9432 - val_acc: 0.3245\n",
      "Epoch 36/100\n",
      "50000/50000 [==============================] - 5s 96us/step - loss: 1.9407 - acc: 0.3269 - val_loss: 1.9385 - val_acc: 0.3265\n",
      "Epoch 37/100\n",
      "50000/50000 [==============================] - 5s 95us/step - loss: 1.9360 - acc: 0.3281 - val_loss: 1.9339 - val_acc: 0.3289\n",
      "Epoch 38/100\n",
      "50000/50000 [==============================] - 4s 89us/step - loss: 1.9315 - acc: 0.3307 - val_loss: 1.9294 - val_acc: 0.3295\n",
      "Epoch 39/100\n",
      "50000/50000 [==============================] - 4s 90us/step - loss: 1.9271 - acc: 0.3327 - val_loss: 1.9252 - val_acc: 0.3283\n",
      "Epoch 40/100\n",
      "50000/50000 [==============================] - 4s 90us/step - loss: 1.9228 - acc: 0.3332 - val_loss: 1.9208 - val_acc: 0.3327\n",
      "Epoch 41/100\n",
      "50000/50000 [==============================] - 4s 90us/step - loss: 1.9186 - acc: 0.3349 - val_loss: 1.9166 - val_acc: 0.3346\n",
      "Epoch 42/100\n",
      "50000/50000 [==============================] - 4s 89us/step - loss: 1.9145 - acc: 0.3368 - val_loss: 1.9125 - val_acc: 0.3363\n",
      "Epoch 43/100\n",
      "50000/50000 [==============================] - 4s 89us/step - loss: 1.9104 - acc: 0.3372 - val_loss: 1.9086 - val_acc: 0.3377\n",
      "Epoch 44/100\n",
      "50000/50000 [==============================] - 4s 90us/step - loss: 1.9066 - acc: 0.3394 - val_loss: 1.9048 - val_acc: 0.3389\n",
      "Epoch 45/100\n",
      "50000/50000 [==============================] - 4s 89us/step - loss: 1.9029 - acc: 0.3406 - val_loss: 1.9012 - val_acc: 0.3391\n",
      "Epoch 46/100\n",
      "50000/50000 [==============================] - 4s 88us/step - loss: 1.8993 - acc: 0.3424 - val_loss: 1.8977 - val_acc: 0.3411\n",
      "Epoch 47/100\n",
      "50000/50000 [==============================] - 4s 88us/step - loss: 1.8959 - acc: 0.3431 - val_loss: 1.8943 - val_acc: 0.3410\n",
      "Epoch 48/100\n",
      "50000/50000 [==============================] - 4s 88us/step - loss: 1.8926 - acc: 0.3445 - val_loss: 1.8911 - val_acc: 0.3410\n",
      "Epoch 49/100\n",
      "50000/50000 [==============================] - 4s 87us/step - loss: 1.8893 - acc: 0.3452 - val_loss: 1.8878 - val_acc: 0.3452\n",
      "Epoch 50/100\n",
      "50000/50000 [==============================] - 5s 91us/step - loss: 1.8861 - acc: 0.3460 - val_loss: 1.8847 - val_acc: 0.3458\n",
      "Epoch 51/100\n",
      "50000/50000 [==============================] - 4s 90us/step - loss: 1.8830 - acc: 0.3474 - val_loss: 1.8819 - val_acc: 0.3467\n",
      "Epoch 52/100\n",
      "50000/50000 [==============================] - 5s 91us/step - loss: 1.8801 - acc: 0.3478 - val_loss: 1.8787 - val_acc: 0.3495\n",
      "Epoch 53/100\n",
      "50000/50000 [==============================] - 4s 86us/step - loss: 1.8771 - acc: 0.3492 - val_loss: 1.8759 - val_acc: 0.3510\n",
      "Epoch 54/100\n",
      "50000/50000 [==============================] - 5s 94us/step - loss: 1.8742 - acc: 0.3503 - val_loss: 1.8733 - val_acc: 0.3496\n",
      "Epoch 55/100\n",
      "50000/50000 [==============================] - 5s 91us/step - loss: 1.8714 - acc: 0.3503 - val_loss: 1.8703 - val_acc: 0.3523\n",
      "Epoch 56/100\n",
      "50000/50000 [==============================] - 5s 93us/step - loss: 1.8687 - acc: 0.3519 - val_loss: 1.8677 - val_acc: 0.3547\n",
      "Epoch 57/100\n",
      "50000/50000 [==============================] - 5s 96us/step - loss: 1.8661 - acc: 0.3526 - val_loss: 1.8651 - val_acc: 0.3537\n",
      "Epoch 58/100\n",
      "50000/50000 [==============================] - 5s 99us/step - loss: 1.8635 - acc: 0.3532 - val_loss: 1.8626 - val_acc: 0.3557\n",
      "Epoch 59/100\n"
     ]
    },
    {
     "name": "stdout",
     "output_type": "stream",
     "text": [
      "50000/50000 [==============================] - 5s 103us/step - loss: 1.8609 - acc: 0.3545 - val_loss: 1.8600 - val_acc: 0.3569\n",
      "Epoch 60/100\n",
      "50000/50000 [==============================] - 5s 103us/step - loss: 1.8584 - acc: 0.3545 - val_loss: 1.8576 - val_acc: 0.3592\n",
      "Epoch 61/100\n",
      "50000/50000 [==============================] - 5s 102us/step - loss: 1.8559 - acc: 0.3558 - val_loss: 1.8551 - val_acc: 0.3599\n",
      "Epoch 62/100\n",
      "50000/50000 [==============================] - 6s 121us/step - loss: 1.8535 - acc: 0.3563 - val_loss: 1.8528 - val_acc: 0.3591\n",
      "Epoch 63/100\n",
      "50000/50000 [==============================] - 7s 146us/step - loss: 1.8511 - acc: 0.3576 - val_loss: 1.8504 - val_acc: 0.3603\n",
      "Epoch 64/100\n",
      "50000/50000 [==============================] - 8s 152us/step - loss: 1.8488 - acc: 0.3584 - val_loss: 1.8480 - val_acc: 0.3612\n",
      "Epoch 65/100\n",
      "50000/50000 [==============================] - 7s 144us/step - loss: 1.8465 - acc: 0.3581 - val_loss: 1.8457 - val_acc: 0.3630\n",
      "Epoch 66/100\n",
      "50000/50000 [==============================] - 7s 146us/step - loss: 1.8442 - acc: 0.3599 - val_loss: 1.8437 - val_acc: 0.3636\n",
      "Epoch 67/100\n",
      "50000/50000 [==============================] - 7s 145us/step - loss: 1.8420 - acc: 0.3595 - val_loss: 1.8413 - val_acc: 0.3636\n",
      "Epoch 68/100\n",
      "50000/50000 [==============================] - 9s 179us/step - loss: 1.8398 - acc: 0.3607 - val_loss: 1.8393 - val_acc: 0.3665\n",
      "Epoch 69/100\n",
      "50000/50000 [==============================] - 9s 175us/step - loss: 1.8377 - acc: 0.3612 - val_loss: 1.8371 - val_acc: 0.3644\n",
      "Epoch 70/100\n",
      "50000/50000 [==============================] - 7s 150us/step - loss: 1.8355 - acc: 0.3619 - val_loss: 1.8350 - val_acc: 0.3657\n",
      "Epoch 71/100\n",
      "50000/50000 [==============================] - 8s 155us/step - loss: 1.8335 - acc: 0.3633 - val_loss: 1.8329 - val_acc: 0.3660\n",
      "Epoch 72/100\n",
      "50000/50000 [==============================] - 8s 153us/step - loss: 1.8314 - acc: 0.3636 - val_loss: 1.8314 - val_acc: 0.3660\n",
      "Epoch 73/100\n",
      "50000/50000 [==============================] - 9s 177us/step - loss: 1.8294 - acc: 0.3644 - val_loss: 1.8291 - val_acc: 0.3668\n",
      "Epoch 74/100\n",
      "50000/50000 [==============================] - 11s 227us/step - loss: 1.8275 - acc: 0.3646 - val_loss: 1.8273 - val_acc: 0.3673\n",
      "Epoch 75/100\n",
      "50000/50000 [==============================] - 11s 225us/step - loss: 1.8255 - acc: 0.3658 - val_loss: 1.8255 - val_acc: 0.3678\n",
      "Epoch 76/100\n",
      "50000/50000 [==============================] - 9s 178us/step - loss: 1.8237 - acc: 0.3659 - val_loss: 1.8235 - val_acc: 0.3706\n",
      "Epoch 77/100\n",
      "50000/50000 [==============================] - 10s 201us/step - loss: 1.8217 - acc: 0.3669 - val_loss: 1.8218 - val_acc: 0.3691.8190 -\n",
      "Epoch 78/100\n",
      "50000/50000 [==============================] - 9s 189us/step - loss: 1.8198 - acc: 0.3672 - val_loss: 1.8199 - val_acc: 0.3712 0s - loss: 1.8204 - acc: 0.3\n",
      "Epoch 79/100\n",
      "50000/50000 [==============================] - 8s 166us/step - loss: 1.8180 - acc: 0.3680 - val_loss: 1.8180 - val_acc: 0.3717\n",
      "Epoch 80/100\n",
      "50000/50000 [==============================] - 11s 213us/step - loss: 1.8161 - acc: 0.3688 - val_loss: 1.8164 - val_acc: 0.3720\n",
      "Epoch 81/100\n",
      "50000/50000 [==============================] - 12s 231us/step - loss: 1.8144 - acc: 0.3697 - val_loss: 1.8145 - val_acc: 0.3726\n",
      "Epoch 82/100\n",
      "50000/50000 [==============================] - 10s 198us/step - loss: 1.8126 - acc: 0.3697 - val_loss: 1.8128 - val_acc: 0.3743\n",
      "Epoch 83/100\n",
      "50000/50000 [==============================] - 9s 189us/step - loss: 1.8108 - acc: 0.3708 - val_loss: 1.8110 - val_acc: 0.3738\n",
      "Epoch 84/100\n",
      "50000/50000 [==============================] - 10s 201us/step - loss: 1.8090 - acc: 0.3719 - val_loss: 1.8093 - val_acc: 0.3753\n",
      "Epoch 85/100\n",
      "50000/50000 [==============================] - 10s 192us/step - loss: 1.8073 - acc: 0.3718 - val_loss: 1.8076 - val_acc: 0.3757\n",
      "Epoch 86/100\n",
      "50000/50000 [==============================] - 9s 183us/step - loss: 1.8057 - acc: 0.3729 - val_loss: 1.8060 - val_acc: 0.3763\n",
      "Epoch 87/100\n",
      "50000/50000 [==============================] - 9s 179us/step - loss: 1.8039 - acc: 0.3734 - val_loss: 1.8044 - val_acc: 0.3777\n",
      "Epoch 88/100\n",
      "50000/50000 [==============================] - 9s 177us/step - loss: 1.8023 - acc: 0.3739 - val_loss: 1.8028 - val_acc: 0.3780\n",
      "Epoch 89/100\n",
      "50000/50000 [==============================] - 9s 179us/step - loss: 1.8006 - acc: 0.3745 - val_loss: 1.8010 - val_acc: 0.3778\n",
      "Epoch 90/100\n",
      "50000/50000 [==============================] - 8s 169us/step - loss: 1.7990 - acc: 0.3748 - val_loss: 1.7994 - val_acc: 0.3786\n",
      "Epoch 91/100\n",
      "50000/50000 [==============================] - 8s 168us/step - loss: 1.7974 - acc: 0.3753 - val_loss: 1.7982 - val_acc: 0.3801\n",
      "Epoch 92/100\n",
      "50000/50000 [==============================] - 8s 161us/step - loss: 1.7957 - acc: 0.3767 - val_loss: 1.7963 - val_acc: 0.3790\n",
      "Epoch 93/100\n",
      "50000/50000 [==============================] - 8s 157us/step - loss: 1.7942 - acc: 0.3774 - val_loss: 1.7948 - val_acc: 0.3796\n",
      "Epoch 94/100\n",
      "50000/50000 [==============================] - 8s 154us/step - loss: 1.7925 - acc: 0.3768 - val_loss: 1.7935 - val_acc: 0.3837\n",
      "Epoch 95/100\n",
      "50000/50000 [==============================] - 8s 151us/step - loss: 1.7910 - acc: 0.3774 - val_loss: 1.7918 - val_acc: 0.3822\n",
      "Epoch 96/100\n",
      "50000/50000 [==============================] - 7s 146us/step - loss: 1.7893 - acc: 0.3785 - val_loss: 1.7904 - val_acc: 0.3817\n",
      "Epoch 97/100\n",
      "50000/50000 [==============================] - 7s 146us/step - loss: 1.7879 - acc: 0.3786 - val_loss: 1.7889 - val_acc: 0.3827\n",
      "Epoch 98/100\n",
      "50000/50000 [==============================] - 8s 151us/step - loss: 1.7864 - acc: 0.3791 - val_loss: 1.7870 - val_acc: 0.3833\n",
      "Epoch 99/100\n",
      "50000/50000 [==============================] - 8s 152us/step - loss: 1.7849 - acc: 0.3796 - val_loss: 1.7857 - val_acc: 0.3836\n",
      "Epoch 100/100\n",
      "50000/50000 [==============================] - 8s 156us/step - loss: 1.7833 - acc: 0.3799 - val_loss: 1.7841 - val_acc: 0.3837\n"
     ]
    },
    {
     "data": {
      "text/plain": [
       "<keras.callbacks.History at 0x15965afa048>"
      ]
     },
     "execution_count": 24,
     "metadata": {},
     "output_type": "execute_result"
    }
   ],
   "source": [
    "\n",
    "model.fit(x_train, y_train, \n",
    "          epochs= 100, \n",
    "          batch_size=1000, \n",
    "          validation_data=(x_test, y_test), \n",
    "          shuffle=True)"
   ]
  },
  {
   "cell_type": "code",
   "execution_count": 26,
   "metadata": {},
   "outputs": [
    {
     "data": {
      "image/png": "[encoded data removed]",
      "text/plain": [
       "<Figure size 432x288 with 1 Axes>"
      ]
     },
     "metadata": {
      "needs_background": "light"
     },
     "output_type": "display_data"
    },
    {
     "data": {
      "image/png": "[encoded data removed]",
      "text/plain": [
       "<Figure size 432x288 with 1 Axes>"
      ]
     },
     "metadata": {
      "needs_background": "light"
     },
     "output_type": "display_data"
    }
   ],
   "source": [
    "import matplotlib.pyplot as plt\n",
    "# 以視覺畫方式檢視訓練過程\n",
    "\n",
    "train_loss = model.history.history[\"loss\"]\n",
    "valid_loss = model.history.history[\"val_loss\"]\n",
    "\n",
    "train_acc = model.history.history[\"acc\"]\n",
    "valid_acc = model.history.history[\"val_acc\"]\n",
    "\n",
    "plt.plot(range(len(train_loss)), train_loss, label=\"train loss\")\n",
    "plt.plot(range(len(valid_loss)), valid_loss, label=\"valid loss\")\n",
    "plt.legend()\n",
    "plt.title(\"Loss\")\n",
    "plt.show()\n",
    "\n",
    "plt.plot(range(len(train_acc)), train_acc, label=\"train accuracy\")\n",
    "plt.plot(range(len(valid_acc)), valid_acc, label=\"valid accuracy\")\n",
    "plt.legend()\n",
    "plt.title(\"Accuracy\")\n",
    "plt.show()"
   ]
  },
  {
   "cell_type": "code",
   "execution_count": null,
   "metadata": {},
   "outputs": [],
   "source": []
  }
 ],
 "metadata": {
  "kernelspec": {
   "display_name": "Python 3",
   "language": "python",
   "name": "python3"
  },
  "language_info": {
   "codemirror_mode": {
    "name": "ipython",
    "version": 3
   },
   "file_extension": ".py",
   "mimetype": "text/x-python",
   "name": "python",
   "nbconvert_exporter": "python",
   "pygments_lexer": "ipython3",
   "version": "3.7.3"
  }
 },
 "nbformat": 4,
 "nbformat_minor": 2
}
