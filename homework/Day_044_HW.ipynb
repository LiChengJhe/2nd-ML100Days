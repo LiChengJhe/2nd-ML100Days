{
 "cells": [
  {
   "cell_type": "markdown",
   "metadata": {},
   "source": [
    "## [作業重點]\n",
    "確保你了解隨機森林模型中每個超參數的意義，並觀察調整超參數對結果的影響"
   ]
  },
  {
   "cell_type": "markdown",
   "metadata": {},
   "source": [
    "## 作業\n",
    "\n",
    "1. 試著調整 RandomForestClassifier(...) 中的參數，並觀察是否會改變結果？\n",
    "2. 改用其他資料集 (boston, wine)，並與回歸模型與決策樹的結果進行比較"
   ]
  },
  {
   "cell_type": "code",
   "execution_count": 37,
   "metadata": {},
   "outputs": [],
   "source": [
    "from sklearn import datasets, metrics\n",
    "from sklearn.ensemble import RandomForestClassifier\n",
    "from sklearn.ensemble import RandomForestRegressor\n",
    "from sklearn.model_selection import train_test_split\n",
    "from sklearn.metrics import mean_squared_error, r2_score\n",
    "# 忽略警告訊息\n",
    "%matplotlib inline\n",
    "import warnings\n",
    "warnings.filterwarnings('ignore')"
   ]
  },
  {
   "cell_type": "code",
   "execution_count": 38,
   "metadata": {},
   "outputs": [
    {
     "name": "stdout",
     "output_type": "stream",
     "text": [
      "Accuracy:  1.0\n"
     ]
    }
   ],
   "source": [
    "wine = datasets.load_wine()\n",
    "# 切分訓練集/測試集\n",
    "x_train, x_test, y_train, y_test = train_test_split(wine.data, wine.target, test_size=0.1, random_state=4)\n",
    "# 建立一個RandomForestClassifier\n",
    "# n_estimators #決策樹的數量量\n",
    "# max_features #如何選取 features   \n",
    "clf =RandomForestClassifier(n_estimators=20, \n",
    "                            max_depth=5,\n",
    "                            min_samples_split=2,\n",
    "                            min_samples_leaf=1)\n",
    "# 將訓練資料丟進去模型訓練\n",
    "clf.fit(x_train, y_train)\n",
    "# 將測試資料丟進模型得到預測結果\n",
    "y_pred = clf.predict(x_test)\n",
    "acc = metrics.accuracy_score(y_test, y_pred)\n",
    "print(\"Accuracy: \", acc)"
   ]
  },
  {
   "cell_type": "code",
   "execution_count": 39,
   "metadata": {},
   "outputs": [
    {
     "name": "stdout",
     "output_type": "stream",
     "text": [
      "Accuracy:  1.0\n"
     ]
    }
   ],
   "source": [
    "wine = datasets.load_wine()\n",
    "# 切分訓練集/測試集\n",
    "x_train, x_test, y_train, y_test = train_test_split(wine.data, wine.target, test_size=0.1, random_state=4)\n",
    "# 建立一個RandomForestClassifier\n",
    "# Criterion: 衡量量資料相似程度的 \n",
    "# n_estimators #決策樹的數量量  \n",
    "# metricMax_depth: 樹能⽣生長的最深限制\n",
    "# Min_samples_split: ⾄至少要多少樣本以上才進⾏行行切分\n",
    "# Min_samples_lear: 最終的葉⼦子 (節點) 上⾄至少要有多少樣本\n",
    "clf =RandomForestClassifier(criterion='gini',\n",
    "                            n_estimators=100, \n",
    "                            max_depth=10,\n",
    "                            min_samples_split=5,\n",
    "                            min_samples_leaf=1)\n",
    "# 將訓練資料丟進去模型訓練\n",
    "clf.fit(x_train, y_train)\n",
    "# 將測試資料丟進模型得到預測結果\n",
    "y_pred = clf.predict(x_test)\n",
    "acc = metrics.accuracy_score(y_test, y_pred)\n",
    "print(\"Accuracy: \", acc)"
   ]
  },
  {
   "cell_type": "code",
   "execution_count": 40,
   "metadata": {},
   "outputs": [
    {
     "name": "stdout",
     "output_type": "stream",
     "text": [
      "Mean squared error:0.01777505303602922\n"
     ]
    }
   ],
   "source": [
    "wine = datasets.load_wine()\n",
    "# 切分訓練集/測試集\n",
    "x_train, x_test, y_train, y_test = train_test_split(wine.data, wine.target, test_size=0.1, random_state=4)\n",
    "# 建立一個RandomForestClassifier\n",
    "# Criterion: 衡量量資料相似程度的 \n",
    "# n_estimators #決策樹的數量量\n",
    "# metricMax_depth: 樹能⽣生長的最深限制\n",
    "# Min_samples_split: ⾄至少要多少樣本以上才進⾏行行切分\n",
    "# Min_samples_lear: 最終的葉⼦子 (節點) 上⾄至少要有多少樣本\n",
    "clf =RandomForestRegressor( criterion='mse',\n",
    "                            n_estimators=100, \n",
    "                            max_depth=10,\n",
    "                            min_samples_split=5,\n",
    "                            min_samples_leaf=1)\n",
    "# 將訓練資料丟進去模型訓練\n",
    "clf.fit(x_train, y_train)\n",
    "# 將測試資料丟進模型得到預測結果\n",
    "y_pred = clf.predict(x_test)\n",
    "# 預測值與實際值的差距，使用 MSE\n",
    "print(\"Mean squared error:{0}\".format(mean_squared_error(y_test, y_pred)))"
   ]
  }
 ],
 "metadata": {
  "kernelspec": {
   "display_name": "Python 3",
   "language": "python",
   "name": "python3"
  },
  "language_info": {
   "codemirror_mode": {
    "name": "ipython",
    "version": 3
   },
   "file_extension": ".py",
   "mimetype": "text/x-python",
   "name": "python",
   "nbconvert_exporter": "python",
   "pygments_lexer": "ipython3",
   "version": "3.7.3"
  }
 },
 "nbformat": 4,
 "nbformat_minor": 2
}
